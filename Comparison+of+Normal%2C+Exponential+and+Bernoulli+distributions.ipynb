{
 "cells": [
  {
   "cell_type": "markdown",
   "metadata": {},
   "source": [
    "# STATISTICS & MACHINE LEARNING\n",
    "\n",
    "## Comparison of Normal, Exponential and Bernoulli distributions"
   ]
  },
  {
   "cell_type": "markdown",
   "metadata": {},
   "source": [
    "### Randomly sample data from the following distributions\n",
    "- Normal, exponential, bernoulli\n",
    "- Then use python to fit the distribution, given the data.\n",
    "Assess how accurate the fit is (define this yourself, justify)\n",
    "as a function of the number of datapoints sampled\n",
    "- Does the fit vary as a function of the true parameter? "
   ]
  },
  {
   "cell_type": "markdown",
   "metadata": {},
   "source": [
    "## 1) Normal Distribution (Gaussian Distribution)"
   ]
  },
  {
   "cell_type": "markdown",
   "metadata": {},
   "source": [
    "*** Generate an array of 200 random sample from a normal dist with mean 0 and stdv 1. ***\n",
    "\n",
    "*** In this case we make use of \"norm.rvs(loc,scale)\" function to call a set of random variables with loc meaning the mean and scale meaning the standard deviation. ***\n",
    "\n"
   ]
  },
  {
   "cell_type": "code",
   "execution_count": 2,
   "metadata": {
    "collapsed": true
   },
   "outputs": [],
   "source": [
    "from scipy.stats import norm\n",
    "import matplotlib.pyplot as plt\n",
    "import numpy as np\n",
    "\n",
    "random_sample = norm.rvs(loc=0,scale=1,size=200) "
   ]
  },
  {
   "cell_type": "markdown",
   "metadata": {},
   "source": [
    "*** The next step is to sample our data to Normal Distribution. ***\n",
    "\n",
    "*** We make use of \"norm.fit(data)\" function to fit the data normally. ***\n",
    "\n",
    "*** norm.fit(data) returns a list of two parameters. ***\n",
    "\n",
    "*** (mean, parameters[0] and std, parameters[1]) via a MLE approach to data, which should be in array form. ***"
   ]
  },
  {
   "cell_type": "code",
   "execution_count": 3,
   "metadata": {
    "collapsed": true
   },
   "outputs": [],
   "source": [
    "parameters = norm.fit(random_sample)"
   ]
  },
  {
   "cell_type": "markdown",
   "metadata": {},
   "source": [
    "*** Now, parameters[0] and parameters[1] are the mean and the standard deviation of the fitted distribution. ***"
   ]
  },
  {
   "cell_type": "code",
   "execution_count": 4,
   "metadata": {
    "collapsed": true
   },
   "outputs": [],
   "source": [
    "x = np.linspace(-5,5,100)"
   ]
  },
  {
   "cell_type": "markdown",
   "metadata": {},
   "source": [
    "### What is PDF ?\n",
    "- PDF stands for Probability Density Function\n",
    "- It is a function of a continuous random variable, whose integral across an interval gives the probability that the value of the variable lies within the same interval."
   ]
  },
  {
   "cell_type": "markdown",
   "metadata": {},
   "source": [
    "*** Now, we make use of \"norm.pdf\" function to normally fit the sample of random numbers. ***"
   ]
  },
  {
   "cell_type": "code",
   "execution_count": 5,
   "metadata": {
    "collapsed": true
   },
   "outputs": [],
   "source": [
    "fitted_pdf = norm.pdf(x,loc = parameters[0],scale = parameters[1])\n",
    "normal_pdf = norm.pdf(x)"
   ]
  },
  {
   "cell_type": "markdown",
   "metadata": {},
   "source": [
    "*** Finally, we plot the graph so as to check the accuracy and compare the random sample of data with normally distributed data.***"
   ]
  },
  {
   "cell_type": "code",
   "execution_count": 14,
   "metadata": {
    "collapsed": false
   },
   "outputs": [
    {
     "data": {
      "image/png": "[encoded data removed]",
      "text/plain": [
       "<matplotlib.figure.Figure at 0x28c9b29b710>"
      ]
     },
     "metadata": {},
     "output_type": "display_data"
    },
    {
     "data": {
      "text/plain": [
       "True"
      ]
     },
     "execution_count": 14,
     "metadata": {},
     "output_type": "execute_result"
    }
   ],
   "source": [
    "plt.plot(x,fitted_pdf,\"red\",label=\"Fitted normal dist\",linestyle=\"dashed\", linewidth=2)\n",
    "plt.plot(x,normal_pdf,\"blue\",label=\"Normal dist\", linewidth=2)\n",
    "\n",
    "plt.hist(random_sample,normed=1,color=\"cyan\",alpha=.1) \n",
    "plt.title(\"Normal distribution fitting\")\n",
    "plt.legend()\n",
    "plt.ylabel('a')\n",
    "plt.xlabel('b')\n",
    "\n",
    "# we plot the normal distribution\n",
    "plt.show()\n",
    "\n",
    "vals = norm.ppf([0.001, 0.5, 0.999])\n",
    "np.allclose([0.001, 0.5, 0.999], norm.cdf(vals))"
   ]
  },
  {
   "cell_type": "markdown",
   "metadata": {},
   "source": [
    "*** Calculating accuracy for Normal distribution. ***"
   ]
  },
  {
   "cell_type": "code",
   "execution_count": 123,
   "metadata": {
    "collapsed": false
   },
   "outputs": [
    {
     "data": {
      "text/plain": [
       "93.480339692704277"
      ]
     },
     "execution_count": 123,
     "metadata": {},
     "output_type": "execute_result"
    }
   ],
   "source": [
    "from sklearn.metrics import mean_squared_error\n",
    "a=mean_squared_error(x, norm.cdf(x))\n",
    "accuracy_normal = 100-a\n",
    "accuracy_normal"
   ]
  },
  {
   "cell_type": "markdown",
   "metadata": {},
   "source": [
    "## 2) Exponential Distribution\n"
   ]
  },
  {
   "cell_type": "markdown",
   "metadata": {},
   "source": [
    "*** Exponential Distribution involves an exponential continuous random variable.***\n",
    "\n",
    "*** As an instance of the rv_continuous class, expon object inherits from it a collection of generic methods and completes them with details specific for this particular distribution. ***"
   ]
  },
  {
   "cell_type": "markdown",
   "metadata": {},
   "source": [
    "*** The probability density function for expon is: expon.pdf(x) = exp(-x). ***"
   ]
  },
  {
   "cell_type": "markdown",
   "metadata": {},
   "source": [
    "*** The probability density above is defined in the “standardized” form. ***\n",
    "\n",
    "*** To shift and/or scale the distribution use the loc and scale parameters.***\n",
    "\n",
    "*** Specifically, expon.pdf(x, loc, scale) is identically equivalent to expon.pdf(y) / scale with y = (x - loc) / scale.***\n"
   ]
  },
  {
   "cell_type": "markdown",
   "metadata": {},
   "source": [
    "*** A common parameterization for expon is in terms of the rate parameter lambda, \n",
    "such that pdf = lambda * exp(-lambda * x). ***\n",
    "\n",
    "*** This parameterization corresponds to using scale = 1 / lambda. ***"
   ]
  },
  {
   "cell_type": "code",
   "execution_count": 115,
   "metadata": {
    "collapsed": true
   },
   "outputs": [],
   "source": [
    "from scipy.stats import expon\n",
    "import matplotlib.pyplot as plt\n",
    "import numpy as np\n",
    "fig, ax = plt.subplots(1, 1)"
   ]
  },
  {
   "cell_type": "markdown",
   "metadata": {},
   "source": [
    "*** Now,we calculate the first few moments for Exponential Distribution.***"
   ]
  },
  {
   "cell_type": "code",
   "execution_count": 116,
   "metadata": {
    "collapsed": true
   },
   "outputs": [],
   "source": [
    "mean, var, skew, kurt = expon.stats(moments='mvsk')"
   ]
  },
  {
   "cell_type": "markdown",
   "metadata": {},
   "source": [
    "*** We make use of numpy linspace to generate mean and standard deviation for the distribution with 100 random values. ***"
   ]
  },
  {
   "cell_type": "code",
   "execution_count": 77,
   "metadata": {
    "collapsed": false
   },
   "outputs": [
    {
     "data": {
      "text/plain": [
       "[<matplotlib.lines.Line2D at 0x1f783cf49b0>]"
      ]
     },
     "execution_count": 77,
     "metadata": {},
     "output_type": "execute_result"
    }
   ],
   "source": [
    "x = np.linspace(expon.ppf(0.01),\n",
    "                expon.ppf(0.99), 100)\n",
    "ax.plot(x, expon.pdf(x),\n",
    "       'r-', lw=5, alpha=0.6, label='Exponentialy fitted pdf')"
   ]
  },
  {
   "cell_type": "code",
   "execution_count": 78,
   "metadata": {
    "collapsed": false
   },
   "outputs": [
    {
     "data": {
      "text/plain": [
       "[<matplotlib.lines.Line2D at 0x1f783cf48d0>]"
      ]
     },
     "execution_count": 78,
     "metadata": {},
     "output_type": "execute_result"
    }
   ],
   "source": [
    "rv = expon()\n",
    "ax.plot(x, rv.pdf(x), 'k-', lw=2, label='Exponential disttibution')"
   ]
  },
  {
   "cell_type": "markdown",
   "metadata": {},
   "source": [
    "*** Calculating accuracy for Exponential distribution. ***"
   ]
  },
  {
   "cell_type": "code",
   "execution_count": 124,
   "metadata": {
    "collapsed": false
   },
   "outputs": [
    {
     "data": {
      "text/plain": [
       "93.48039132894661"
      ]
     },
     "execution_count": 124,
     "metadata": {},
     "output_type": "execute_result"
    }
   ],
   "source": [
    "from sklearn.metrics import accuracy_score\n",
    "a=mean_squared_error(x, expon.cdf(x))\n",
    "accuracy = 100-a\n",
    "accuracy"
   ]
  },
  {
   "cell_type": "markdown",
   "metadata": {},
   "source": [
    "*** We generate a random set of values using \"expon.rvs()\" function for Exponential distribution. ***"
   ]
  },
  {
   "cell_type": "code",
   "execution_count": 80,
   "metadata": {
    "collapsed": true
   },
   "outputs": [],
   "source": [
    "r = expon.rvs(size=1000)"
   ]
  },
  {
   "cell_type": "code",
   "execution_count": 81,
   "metadata": {
    "collapsed": false
   },
   "outputs": [
    {
     "data": {
      "image/png": "[encoded data removed]",
      "text/plain": [
       "<matplotlib.figure.Figure at 0x1f783bff400>"
      ]
     },
     "metadata": {},
     "output_type": "display_data"
    }
   ],
   "source": [
    "ax.hist(r, normed=True, histtype='stepfilled', alpha=0.2)\n",
    "ax.legend(loc='best', frameon=False)\n",
    "plt.show()"
   ]
  },
  {
   "cell_type": "markdown",
   "metadata": {},
   "source": [
    "## 3) Bernoulli Distribution"
   ]
  },
  {
   "cell_type": "markdown",
   "metadata": {},
   "source": [
    "*** It involves a Bernoulli discrete random variable. ***\n",
    "\n",
    "*** Discrete random variables are defined from a standard form and may require some shape parameters to complete its specification. ***"
   ]
  },
  {
   "cell_type": "code",
   "execution_count": 125,
   "metadata": {
    "collapsed": true
   },
   "outputs": [],
   "source": [
    "from scipy.stats import bernoulli\n",
    "import matplotlib.pyplot as plt\n",
    "fig, ax = plt.subplots(1, 1)"
   ]
  },
  {
   "cell_type": "markdown",
   "metadata": {},
   "source": [
    "*** Now, let's compute a set of random values using \"bernoulli.rvs()\" function. ***\n",
    "\n",
    "*** Also we calculate first few moments by using \"bernoulli.stats()\". ***"
   ]
  },
  {
   "cell_type": "code",
   "execution_count": 99,
   "metadata": {
    "collapsed": true
   },
   "outputs": [],
   "source": [
    "p = 0.3\n",
    "r = bernoulli.rvs(p, size=1000)\n",
    "mean, var, skew, kurt = bernoulli.stats(p, moments='mvsk')"
   ]
  },
  {
   "cell_type": "code",
   "execution_count": 100,
   "metadata": {
    "collapsed": false
   },
   "outputs": [
    {
     "data": {
      "text/plain": [
       "<matplotlib.collections.LineCollection at 0x1f7841e8dd8>"
      ]
     },
     "execution_count": 100,
     "metadata": {},
     "output_type": "execute_result"
    }
   ],
   "source": [
    "x = np.arange(bernoulli.ppf(0.01, p),\n",
    "              bernoulli.ppf(0.99, p))\n",
    "ax.plot(x, bernoulli.pmf(x, p), 'bo', ms=8, label='Bernoulli fitted')\n",
    "ax.vlines(x, 0, bernoulli.pmf(x, p), colors='b', lw=5, alpha=0.5)"
   ]
  },
  {
   "cell_type": "code",
   "execution_count": 101,
   "metadata": {
    "collapsed": false
   },
   "outputs": [
    {
     "data": {
      "image/png": "[encoded data removed]",
      "text/plain": [
       "<matplotlib.figure.Figure at 0x1f7841e8c88>"
      ]
     },
     "metadata": {},
     "output_type": "display_data"
    }
   ],
   "source": [
    "rv = bernoulli(p)\n",
    "ax.vlines(x, 0, rv.pmf(x), colors='k', linestyles='-', lw=1,\n",
    "        label='Bernoulli frozen pmf')\n",
    "ax.legend(loc='best', frameon=False)\n",
    "plt.show()"
   ]
  },
  {
   "cell_type": "markdown",
   "metadata": {},
   "source": [
    "*** Finally, we calculate an accuracy using below lines of code. ***"
   ]
  },
  {
   "cell_type": "code",
   "execution_count": 102,
   "metadata": {
    "collapsed": false
   },
   "outputs": [
    {
     "data": {
      "text/plain": [
       "True"
      ]
     },
     "execution_count": 102,
     "metadata": {},
     "output_type": "execute_result"
    }
   ],
   "source": [
    "prob = bernoulli.cdf(x, p)\n",
    "np.allclose(x, bernoulli.ppf(prob, p))"
   ]
  },
  {
   "cell_type": "markdown",
   "metadata": {},
   "source": [
    "*** Calculating accuracy for Bernoulli distribution. ***"
   ]
  },
  {
   "cell_type": "code",
   "execution_count": 122,
   "metadata": {
    "collapsed": false
   },
   "outputs": [
    {
     "data": {
      "text/plain": [
       "93.544265993265995"
      ]
     },
     "execution_count": 122,
     "metadata": {},
     "output_type": "execute_result"
    }
   ],
   "source": [
    "from sklearn.metrics import mean_squared_error\n",
    "a=mean_squared_error(x, bernoulli.cdf(x,p))\n",
    "accuracy_bernoulli = 100-a\n",
    "accuracy_bernoulli"
   ]
  },
  {
   "cell_type": "markdown",
   "metadata": {},
   "source": [
    "## References :\n",
    " http://firsttimeprogrammer.blogspot.com/2014/07/how-to-fit-data-to-normal-distribution.html\n",
    " \n",
    " https://docs.scipy.org/doc/scipy-0.18.1/reference/generated/scipy.stats.expon.html\n",
    " \n",
    " https://docs.scipy.org/doc/scipy-0.14.0/reference/generated/scipy.stats.bernoulli.html"
   ]
  }
 ],
 "metadata": {
  "anaconda-cloud": {},
  "kernelspec": {
   "display_name": "Python [default]",
   "language": "python",
   "name": "python3"
  },
  "language_info": {
   "codemirror_mode": {
    "name": "ipython",
    "version": 3
   },
   "file_extension": ".py",
   "mimetype": "text/x-python",
   "name": "python",
   "nbconvert_exporter": "python",
   "pygments_lexer": "ipython3",
   "version": "3.5.2"
  }
 },
 "nbformat": 4,
 "nbformat_minor": 2
}
