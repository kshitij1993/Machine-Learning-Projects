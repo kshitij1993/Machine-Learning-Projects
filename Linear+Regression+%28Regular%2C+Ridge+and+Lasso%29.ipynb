{
 "cells": [
  {
   "cell_type": "markdown",
   "metadata": {},
   "source": [
    "# STATISTICS & MACHINE LEARNING\n",
    "\n",
    "## Linear Regression (Regular, Ridge and Lasso)\n"
   ]
  },
  {
   "cell_type": "markdown",
   "metadata": {},
   "source": [
    "## Question :\n",
    "## Pick a dataset and apply linear regression (regular, ridge, and lasso). Visualize and compare the results. Explain the differences.\n",
    "\n",
    "*** Let's get started with our analysis.***\n",
    "\n",
    "*** We will firstly try and fit model to our dataset. ***"
   ]
  },
  {
   "cell_type": "markdown",
   "metadata": {},
   "source": [
    "### Linear Regression\n",
    "\n",
    "- Linear Regression is a statistical approach to find out relation for the feature variables and response.\n",
    "- The term \"linearity\" in algebra means that there is a linear relationship between two or more variables."
   ]
  },
  {
   "cell_type": "markdown",
   "metadata": {},
   "source": [
    "### Types of Regression\n",
    "\n",
    "- 1) Regular Linear Regression\n",
    "- 2) Ridge Regression\n",
    "- 3) Lasso Regression"
   ]
  },
  {
   "cell_type": "markdown",
   "metadata": {},
   "source": [
    "## 1) Regular Linear Regression"
   ]
  },
  {
   "cell_type": "code",
   "execution_count": 2,
   "metadata": {
    "collapsed": true
   },
   "outputs": [],
   "source": [
    "import numpy as np\n",
    "import pandas as pd\n",
    "import statsmodels.api as sm\n",
    "import sklearn\n",
    "import matplotlib.pyplot as plt\n",
    "data=pd.read_csv('C:/Users/kshit/Documents/SPRING 2018/Machine Learning and Statistics/Sample_whatsapp.csv')\n",
    "#df"
   ]
  },
  {
   "cell_type": "code",
   "execution_count": 218,
   "metadata": {
    "collapsed": true
   },
   "outputs": [],
   "source": [
    "# define the data/predictors as the pre-set feature names  \n",
    "df = pd.DataFrame(data=data, columns=data.columns)\n",
    "\n",
    "# Assign the target variable\n",
    "# target = pd.DataFrame(data=data, columns=[\"Prices\"])\n",
    "target=df.iloc[:, 1].values"
   ]
  },
  {
   "cell_type": "code",
   "execution_count": 219,
   "metadata": {
    "collapsed": false
   },
   "outputs": [
    {
     "data": {
      "text/plain": [
       "array([39250,  4620,  1570, 42220, 11940, 17090,  5690,  7750, 21400,\n",
       "        6530,  2090, 24810,  2350,  3960,  4880,   660, 13490,  5090,\n",
       "         440, 11300,  1480,  4870,  5210,  1320, 10390,  7750,  1180,\n",
       "        9810,  2790,  3810,     0,  6920,  1460,  4030, 16150,  5720,\n",
       "       21760,  5810,  1260,  5960,  8990, 20240, 18130, 15280, 16280,\n",
       "        7340,  2130,  9260,  7610,  3990, 14210,  9300,  3190,  3210,\n",
       "        5560, 13330, 19450, 13790,  8740, 20980,  9550, 24460, 18750], dtype=int64)"
      ]
     },
     "execution_count": 219,
     "metadata": {},
     "output_type": "execute_result"
    }
   ],
   "source": [
    "target"
   ]
  },
  {
   "cell_type": "code",
   "execution_count": 232,
   "metadata": {
    "collapsed": true
   },
   "outputs": [],
   "source": [
    "X = df[\"SqFt\"].values.reshape(-1, 1)\n",
    "Y = target\n",
    "\n",
    "from sklearn.cross_validation import train_test_split\n",
    "X_train, X_test, Y_train, Y_test = sklearn.cross_validation.train_test_split(X, Y, test_size = 0.50, random_state = 1)"
   ]
  },
  {
   "cell_type": "code",
   "execution_count": 252,
   "metadata": {
    "collapsed": true
   },
   "outputs": [],
   "source": [
    "from sklearn.linear_model import LinearRegression\n",
    "\n",
    "lm = LinearRegression()\n",
    "\n",
    "#model=sm.OLS(Y_train, X_train).fit()\n",
    "lm.fit(X_train, Y_train)\n",
    "\n",
    "\n",
    "Y_pred = lm.predict(X_test)"
   ]
  },
  {
   "cell_type": "code",
   "execution_count": 234,
   "metadata": {
    "collapsed": false
   },
   "outputs": [
    {
     "data": {
      "text/plain": [
       "array([  9917.20951336,   6925.54047575,   6235.15531322,   7846.05402578,\n",
       "        15440.29081356,   6235.15531322,   5314.64176319,  12678.75016346,\n",
       "        17051.18952612,  15900.54758857,   4163.99982565,   6695.41208824,\n",
       "         5774.89853821,   4163.99982565,  10147.33790086,   5084.51337568,\n",
       "        31779.40632665,   6235.15531322,  17281.31791362,   4394.12821315,\n",
       "         9917.20951336,   8536.43918831,   8306.3108008 ,  10377.46628837,\n",
       "         4624.25660066,   5084.51337568,   6235.15531322,   9456.95273834,\n",
       "         4394.12821315,   7155.66886326,   8996.69596332,   5314.64176319])"
      ]
     },
     "execution_count": 234,
     "metadata": {},
     "output_type": "execute_result"
    }
   ],
   "source": [
    "Y_pred"
   ]
  },
  {
   "cell_type": "code",
   "execution_count": 235,
   "metadata": {
    "collapsed": false
   },
   "outputs": [
    {
     "data": {
      "text/plain": [
       "array([10390,  5960,  9300,  9810, 24460,  1570,  4870, 18130, 20240,\n",
       "       16280,  1260,  3210,  5720,  1180, 19450,  7610, 42220,  8990,\n",
       "       21760,  2090, 13330, 11300, 16150, 20980,  5090,  5560,  3190,\n",
       "        9260,  4030, 14210,  6920,  8740], dtype=int64)"
      ]
     },
     "execution_count": 235,
     "metadata": {},
     "output_type": "execute_result"
    }
   ],
   "source": [
    "Y_test"
   ]
  },
  {
   "cell_type": "code",
   "execution_count": 236,
   "metadata": {
    "collapsed": false
   },
   "outputs": [
    {
     "name": "stdout",
     "output_type": "stream",
     "text": [
      "Variance score is : 0.766073379534\n"
     ]
    }
   ],
   "source": [
    "from sklearn.metrics import explained_variance_score\n",
    "print(\"Variance score is :\",explained_variance_score(Y_test,Y_pred))"
   ]
  },
  {
   "cell_type": "code",
   "execution_count": 272,
   "metadata": {
    "collapsed": false
   },
   "outputs": [
    {
     "data": {
      "text/plain": [
       "3996.5563675233689"
      ]
     },
     "execution_count": 272,
     "metadata": {},
     "output_type": "execute_result"
    }
   ],
   "source": [
    "from sklearn.metrics import mean_absolute_error\n",
    "mean_absolute_error(Y_test,Y_pred)"
   ]
  },
  {
   "cell_type": "code",
   "execution_count": 237,
   "metadata": {
    "collapsed": false
   },
   "outputs": [
    {
     "data": {
      "text/plain": [
       "0.70955907422740505"
      ]
     },
     "execution_count": 237,
     "metadata": {},
     "output_type": "execute_result"
    }
   ],
   "source": [
    "lm.score(X_test,Y_test)"
   ]
  },
  {
   "cell_type": "code",
   "execution_count": 268,
   "metadata": {
    "collapsed": false,
    "scrolled": true
   },
   "outputs": [
    {
     "data": {
      "image/png": "[encoded data removed]",
      "text/plain": [
       "<matplotlib.figure.Figure at 0x1d1f66b5ac8>"
      ]
     },
     "metadata": {},
     "output_type": "display_data"
    }
   ],
   "source": [
    "plt.scatter(Y_test,Y_pred,color='r')\n",
    "plt.plot(X_train, lm.predict(X_train),color='k')\n",
    "plt.title('Predicted Prices vs True Prices (Regular Linear Regression)')\n",
    "plt.xlabel('True Prices')\n",
    "plt.ylabel('Predicted Prices')\n",
    "plt.show()"
   ]
  },
  {
   "cell_type": "markdown",
   "metadata": {},
   "source": [
    "## 2) Ridge Regression"
   ]
  },
  {
   "cell_type": "code",
   "execution_count": 277,
   "metadata": {
    "collapsed": true
   },
   "outputs": [],
   "source": [
    "X_train, X_test, Y_train, Y_test = sklearn.cross_validation.train_test_split(X\n",
    ", Y, test_size = 0.50, random_state = 5)"
   ]
  },
  {
   "cell_type": "code",
   "execution_count": 278,
   "metadata": {
    "collapsed": false
   },
   "outputs": [
    {
     "data": {
      "text/plain": [
       "array([  4145.41901386,   4901.99895806,  17007.27806531,   5658.57890227,\n",
       "         3388.83906966,   6036.86887437,  12467.7984001 ,   3388.83906966,\n",
       "        15494.11817691,   9819.76859538,  48405.34574975,   4145.41901386,\n",
       "        24194.78753524,  17007.27806531,   6793.44881857,  13224.3783443 ,\n",
       "         6415.15884647,   3767.12904176,   2632.25912545,  10198.05856749,\n",
       "        12467.7984001 ,   6415.15884647,  10198.05856749,  11332.92848379,\n",
       "         3010.54909756,  10954.63851169,  16628.98809321,   3767.12904176,\n",
       "        69589.58418743,   3010.54909756,  23059.91761894,  21546.75773053])"
      ]
     },
     "execution_count": 278,
     "metadata": {},
     "output_type": "execute_result"
    }
   ],
   "source": [
    "from sklearn.linear_model import Ridge\n",
    "\n",
    "ridge = Ridge(alpha=0.5)\n",
    "\n",
    "ridge.fit(X_train, Y_train)\n",
    "\n",
    "\n",
    "Y_pred = ridge.predict(X_test)\n",
    "\n",
    "Y_pred"
   ]
  },
  {
   "cell_type": "code",
   "execution_count": 279,
   "metadata": {
    "collapsed": false
   },
   "outputs": [
    {
     "name": "stdout",
     "output_type": "stream",
     "text": [
      "Variance score for Ridge Regression is : 0.581695930256\n"
     ]
    }
   ],
   "source": [
    "from sklearn.metrics import explained_variance_score\n",
    "print(\"Variance score for Ridge Regression is :\",explained_variance_score(Y_test,Y_pred))"
   ]
  },
  {
   "cell_type": "code",
   "execution_count": 280,
   "metadata": {
    "collapsed": false
   },
   "outputs": [
    {
     "data": {
      "text/plain": [
       "3996.5563675233689"
      ]
     },
     "execution_count": 280,
     "metadata": {},
     "output_type": "execute_result"
    }
   ],
   "source": [
    "from sklearn.metrics import mean_absolute_error\n",
    "mean_absolute_error(Y_test,Y_pred)"
   ]
  },
  {
   "cell_type": "code",
   "execution_count": 281,
   "metadata": {
    "collapsed": false
   },
   "outputs": [
    {
     "data": {
      "text/plain": [
       "0.55840912336180926"
      ]
     },
     "execution_count": 281,
     "metadata": {},
     "output_type": "execute_result"
    }
   ],
   "source": [
    "ridge.score(X_test,Y_test)"
   ]
  },
  {
   "cell_type": "code",
   "execution_count": 266,
   "metadata": {
    "collapsed": false
   },
   "outputs": [
    {
     "data": {
      "image/png": "[encoded data removed]",
      "text/plain": [
       "<matplotlib.figure.Figure at 0x1d1f666bdd8>"
      ]
     },
     "metadata": {},
     "output_type": "display_data"
    }
   ],
   "source": [
    "plt.scatter(Y_test,Y_pred,color='r')\n",
    "plt.plot(X_train, ridge.predict(X_train),color='k')\n",
    "plt.title('Predicted Prices vs Prices (Ridge Regression)')\n",
    "plt.xlabel('True Prices')\n",
    "plt.ylabel('Predicted Prices')\n",
    "plt.show()"
   ]
  },
  {
   "cell_type": "markdown",
   "metadata": {},
   "source": [
    "## 3) Lasso Regression\n"
   ]
  },
  {
   "cell_type": "code",
   "execution_count": 245,
   "metadata": {
    "collapsed": true
   },
   "outputs": [],
   "source": [
    "X_train, X_test, Y_train, Y_test = sklearn.cross_validation.train_test_split(X\n",
    ", Y, test_size = 0.5, random_state = 5)"
   ]
  },
  {
   "cell_type": "code",
   "execution_count": 246,
   "metadata": {
    "collapsed": false
   },
   "outputs": [
    {
     "data": {
      "text/plain": [
       "array([  4167.43063382,   4919.97294359,  16960.64989996,   5672.51525336,\n",
       "         3414.88832404,   6048.78640825,  12445.39604132,   3414.88832404,\n",
       "        15455.56528041,   9811.49795712,  48191.15575555,   4167.43063382,\n",
       "        24109.80184281,  16960.64989996,   6801.32871802,  13197.9383511 ,\n",
       "         6425.05756314,   3791.15947893,   2662.34601427,  10187.769112  ,\n",
       "        12445.39604132,   6425.05756314,  10187.769112  ,  11316.58257666,\n",
       "         3038.61716916,  10940.31142178,  16584.37874507,   3791.15947893,\n",
       "        69262.3404292 ,   3038.61716916,  22980.98837815,  21475.9037586 ])"
      ]
     },
     "execution_count": 246,
     "metadata": {},
     "output_type": "execute_result"
    }
   ],
   "source": [
    "from sklearn.linear_model import LassoCV\n",
    "\n",
    "lasso = LassoCV()\n",
    "\n",
    "lasso.fit(X_train, Y_train)\n",
    "\n",
    "\n",
    "Y_pred = lasso.predict(X_test)\n",
    "\n",
    "Y_pred"
   ]
  },
  {
   "cell_type": "code",
   "execution_count": 247,
   "metadata": {
    "collapsed": false
   },
   "outputs": [
    {
     "name": "stdout",
     "output_type": "stream",
     "text": [
      "Variance score for Lasso Regression is : 0.588451552337\n"
     ]
    }
   ],
   "source": [
    "from sklearn.metrics import explained_variance_score\n",
    "print(\"Variance score for Lasso Regression is :\",explained_variance_score(Y_test,Y_pred))"
   ]
  },
  {
   "cell_type": "code",
   "execution_count": 274,
   "metadata": {
    "collapsed": false
   },
   "outputs": [
    {
     "data": {
      "text/plain": [
       "3996.5563675233689"
      ]
     },
     "execution_count": 274,
     "metadata": {},
     "output_type": "execute_result"
    }
   ],
   "source": [
    "from sklearn.metrics import mean_absolute_error\n",
    "mean_absolute_error(Y_test,Y_pred)"
   ]
  },
  {
   "cell_type": "code",
   "execution_count": 248,
   "metadata": {
    "collapsed": false
   },
   "outputs": [
    {
     "data": {
      "text/plain": [
       "0.56590362457012888"
      ]
     },
     "execution_count": 248,
     "metadata": {},
     "output_type": "execute_result"
    }
   ],
   "source": [
    "lasso.score(X_test,Y_test)"
   ]
  },
  {
   "cell_type": "code",
   "execution_count": 269,
   "metadata": {
    "collapsed": false
   },
   "outputs": [
    {
     "data": {
      "image/png": "[encoded data removed]",
      "text/plain": [
       "<matplotlib.figure.Figure at 0x1d1f66a79b0>"
      ]
     },
     "metadata": {},
     "output_type": "display_data"
    }
   ],
   "source": [
    "plt.scatter(Y_test,Y_pred,color='r')\n",
    "plt.plot(X_train, lasso.predict(X_train),color='k')\n",
    "plt.title('Predicted Prices vs True Prices (Lasso Regression)')\n",
    "plt.xlabel('True Prices')\n",
    "plt.ylabel('Predicted Prices')\n",
    "plt.show()"
   ]
  },
  {
   "cell_type": "markdown",
   "metadata": {},
   "source": [
    "### Conclusion\n",
    "\n",
    "*** Therefore, after having a look at Variance scores and Mean Absolute Errors for regular, ridge and lasso regression we conclude that \"Regular Linear Regression\" performed better for our dataset. ***"
   ]
  },
  {
   "cell_type": "markdown",
   "metadata": {},
   "source": [
    "## References:\n",
    "- http://stackabuse.com/linear-regression-in-python-with-scikit-learn/\n",
    "- http://scikit-learn.org/stable/modules/generated/sklearn.metrics.mean_squared_error.html\n",
    "- https://towardsdatascience.com/simple-and-multiple-linear-regression-in-python-c928425168f9    "
   ]
  },
  {
   "cell_type": "code",
   "execution_count": null,
   "metadata": {
    "collapsed": true
   },
   "outputs": [],
   "source": []
  }
 ],
 "metadata": {
  "anaconda-cloud": {},
  "kernelspec": {
   "display_name": "Python [default]",
   "language": "python",
   "name": "python3"
  },
  "language_info": {
   "codemirror_mode": {
    "name": "ipython",
    "version": 3
   },
   "file_extension": ".py",
   "mimetype": "text/x-python",
   "name": "python",
   "nbconvert_exporter": "python",
   "pygments_lexer": "ipython3",
   "version": "3.5.2"
  }
 },
 "nbformat": 4,
 "nbformat_minor": 2
}
